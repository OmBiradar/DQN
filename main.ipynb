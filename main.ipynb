{
 "cells": [
  {
   "cell_type": "code",
   "execution_count": 1,
   "id": "b6453b8e-462b-4282-810d-d898be55b0a0",
   "metadata": {},
   "outputs": [
    {
     "name": "stderr",
     "output_type": "stream",
     "text": [
      "/home/ink/Desktop/DQN/.venv/lib/python3.11/site-packages/ignite/handlers/checkpoint.py:16: DeprecationWarning: `TorchScript` support for functional optimizers is deprecated and will be removed in a future PyTorch release. Consider using the `torch.compile` optimizer instead.\n",
      "  from torch.distributed.optim import ZeroRedundancyOptimizer\n",
      "usage: ipykernel_launcher.py [-h] [--dev DEV] [--params {common,best}]\n",
      "                             [--tune TUNE]\n",
      "ipykernel_launcher.py: error: unrecognized arguments: -f /home/ink/.local/share/jupyter/runtime/kernel-296d01e8-ebca-4628-8d66-6dd67edc5c53.json\n"
     ]
    },
    {
     "ename": "SystemExit",
     "evalue": "2",
     "output_type": "error",
     "traceback": [
      "An exception has occurred, use %tb to see the full traceback.\n",
      "\u001b[31mSystemExit\u001b[39m\u001b[31m:\u001b[39m 2\n"
     ]
    },
    {
     "name": "stderr",
     "output_type": "stream",
     "text": [
      "/home/ink/Desktop/DQN/.venv/lib/python3.11/site-packages/IPython/core/interactiveshell.py:3707: UserWarning: To exit: use 'exit', 'quit', or Ctrl-D.\n",
      "  warn(\"To exit: use 'exit', 'quit', or Ctrl-D.\", stacklevel=1)\n"
     ]
    }
   ],
   "source": [
    "#!/usr/bin/env python3\n",
    "import gymnasium as gym\n",
    "import ptan\n",
    "import typing as tt\n",
    "\n",
    "import torch\n",
    "import torch.optim as optim\n",
    "\n",
    "from ignite.engine import Engine\n",
    "\n",
    "from lib import dqn_model, common\n",
    "\n",
    "NAME = \"01_baseline\"\n",
    "\n",
    "BEST_PONG = common.Hyperparams(\n",
    "    env_name=\"PongNoFrameskip-v4\",\n",
    "    stop_reward=18.0,\n",
    "    run_name=\"pong\",\n",
    "    replay_size=100_000,\n",
    "    replay_initial=10_000,\n",
    "    target_net_sync=1000,\n",
    "    epsilon_frames=100_000,\n",
    "    epsilon_final=0.02,\n",
    "    learning_rate=9.932831968547505e-05,\n",
    "    gamma=0.98,\n",
    "    episodes_to_solve=340,\n",
    ")\n",
    "\n",
    "\n",
    "def train(params: common.Hyperparams,\n",
    "          device: torch.device, _: dict) -> tt.Optional[int]:\n",
    "    env = gym.make(params.env_name)\n",
    "    env = ptan.common.wrappers.wrap_dqn(env)\n",
    "\n",
    "    net = dqn_model.DQN(env.observation_space.shape, env.action_space.n).to(device)\n",
    "    tgt_net = ptan.agent.TargetNet(net)\n",
    "    selector = ptan.actions.EpsilonGreedyActionSelector(epsilon=params.epsilon_start)\n",
    "    epsilon_tracker = common.EpsilonTracker(selector, params)\n",
    "    agent = ptan.agent.DQNAgent(net, selector, device=device)\n",
    "\n",
    "    exp_source = ptan.experience.ExperienceSourceFirstLast(\n",
    "        env, agent, gamma=params.gamma, env_seed=common.SEED)\n",
    "    buffer = ptan.experience.ExperienceReplayBuffer(\n",
    "        exp_source, buffer_size=params.replay_size)\n",
    "    optimizer = optim.Adam(net.parameters(), lr=params.learning_rate)\n",
    "\n",
    "    def process_batch(engine, batch):\n",
    "        optimizer.zero_grad()\n",
    "        loss_v = common.calc_loss_dqn(batch, net, tgt_net.target_model,\n",
    "                                      gamma=params.gamma, device=device)\n",
    "        loss_v.backward()\n",
    "        optimizer.step()\n",
    "        epsilon_tracker.frame(engine.state.iteration)\n",
    "        if engine.state.iteration % params.target_net_sync == 0:\n",
    "            tgt_net.sync()\n",
    "        return {\n",
    "            \"loss\": loss_v.item(),\n",
    "            \"epsilon\": selector.epsilon,\n",
    "        }\n",
    "\n",
    "    engine = Engine(process_batch)\n",
    "    common.setup_ignite(engine, params, exp_source, NAME)\n",
    "    r = engine.run(common.batch_generator(buffer, params.replay_initial, params.batch_size))\n",
    "    if r.solved:\n",
    "        return r.episode\n",
    "\n",
    "\n",
    "if __name__ == \"__main__\":\n",
    "    args = common.argparser().parse_args()\n",
    "    common.train_or_tune(args, train, BEST_PONG)"
   ]
  },
  {
   "cell_type": "code",
   "execution_count": null,
   "id": "0c4c9db3-a230-4f94-9f3d-d8793bf929ad",
   "metadata": {},
   "outputs": [],
   "source": []
  }
 ],
 "metadata": {
  "kernelspec": {
   "display_name": "Python 3 (ipykernel)",
   "language": "python",
   "name": "python3"
  },
  "language_info": {
   "codemirror_mode": {
    "name": "ipython",
    "version": 3
   },
   "file_extension": ".py",
   "mimetype": "text/x-python",
   "name": "python",
   "nbconvert_exporter": "python",
   "pygments_lexer": "ipython3",
   "version": "3.11.13"
  }
 },
 "nbformat": 4,
 "nbformat_minor": 5
}
